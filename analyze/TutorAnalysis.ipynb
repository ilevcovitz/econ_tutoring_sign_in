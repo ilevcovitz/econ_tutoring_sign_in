{
 "cells": [
  {
   "cell_type": "markdown",
   "metadata": {},
   "source": [
    "# Analysis of tutoring center sign-in data"
   ]
  },
  {
   "cell_type": "code",
   "execution_count": 169,
   "metadata": {
    "collapsed": true
   },
   "outputs": [],
   "source": [
    "%matplotlib inline\n",
    "import pandas as pd\n",
    "import numpy as np\n",
    "import matplotlib.pyplot as plt\n",
    "from datetime import date\n",
    "import seaborn as sns"
   ]
  },
  {
   "cell_type": "markdown",
   "metadata": {},
   "source": [
    "Read in the data kept in the ..\\Dropbox\\sign_in_exports folder\n",
    "Right now we're just manually grabbing one csv file.  But we could script this to grab the most recent file in the folder."
   ]
  },
  {
   "cell_type": "code",
   "execution_count": 170,
   "metadata": {
    "collapsed": false
   },
   "outputs": [],
   "source": [
    "df = pd.read_csv(r'C:\\Users\\Ivan\\Desktop\\sign_in_export_2015-10-28.csv')\n",
    "#df = pd.read_csv(r'\\Users\\Jonathan\\Dropbox\\sign_in_exports\\sign_in_export_2015-10-28.csv')"
   ]
  },
  {
   "cell_type": "markdown",
   "metadata": {},
   "source": [
    "Let's now create a datetime index to use datetime functions below."
   ]
  },
  {
   "cell_type": "code",
   "execution_count": 171,
   "metadata": {
    "collapsed": false
   },
   "outputs": [],
   "source": [
    "df['timestamp'] = pd.to_datetime(df.Date + ' ' + df.Time)\n",
    "df = df.set_index(pd.DatetimeIndex(df.timestamp))"
   ]
  },
  {
   "cell_type": "code",
   "execution_count": 172,
   "metadata": {
    "collapsed": false
   },
   "outputs": [],
   "source": [
    "weekmask =['Mon', 'Tue', 'Wed', 'Thu', 'Fri', 'Sat', 'Sun']"
   ]
  },
  {
   "cell_type": "code",
   "execution_count": 173,
   "metadata": {
    "collapsed": false
   },
   "outputs": [],
   "source": [
    "df['dayofweek']= [weekmask[date.dayofweek] for date in df.index]"
   ]
  },
  {
   "cell_type": "markdown",
   "metadata": {},
   "source": [
    "What are the most popular days of the week:"
   ]
  },
  {
   "cell_type": "code",
   "execution_count": 174,
   "metadata": {
    "collapsed": false
   },
   "outputs": [
    {
     "data": {
      "text/plain": [
       "<matplotlib.axes._subplots.AxesSubplot at 0xbbee208>"
      ]
     },
     "execution_count": 174,
     "metadata": {},
     "output_type": "execute_result"
    },
    {
     "data": {
      "image/png": "[encoded data removed]",
      "text/plain": [
       "<matplotlib.figure.Figure at 0xbbe7ac8>"
      ]
     },
     "metadata": {},
     "output_type": "display_data"
    }
   ],
   "source": [
    "df.groupby('dayofweek').size().sort_values().plot(kind='barh')"
   ]
  },
  {
   "cell_type": "markdown",
   "metadata": {},
   "source": [
    "Group dataframe by day of week and by hour. Create a matrix where rows are days of week, columns are hours and entries are number of recorded visits. "
   ]
  },
  {
   "cell_type": "code",
   "execution_count": 351,
   "metadata": {
    "collapsed": false
   },
   "outputs": [],
   "source": [
    "times = pd.DatetimeIndex(df['timestamp'])\n",
    "series_weekday_hour = df.groupby([df['dayofweek'], times.hour]).size()\n",
    "\n",
    "\n",
    "Matrix = [[0 for x in range(7)] for x in range(23)] \n",
    "weekday_index = {'Mon': 0, 'Tue': 1, 'Wed': 2, 'Thu': 3, 'Fri': 4, 'Sat': 5, 'Sun': 6}\n",
    "for day in series_weekday_hour.index: \n",
    "    Matrix[ day[1] ][ weekday_index[day[0]] ] = series_weekday_hour[day]\n"
   ]
  },
  {
   "cell_type": "markdown",
   "metadata": {},
   "source": [
    "A heatmap of the popular Weekdays/Hours to visit the tutoring center. Clearly the midnight visits are incorrect. These were entries in which a time was not entered in the paper sign-in."
   ]
  },
  {
   "cell_type": "code",
   "execution_count": 392,
   "metadata": {
    "collapsed": false
   },
   "outputs": [
    {
     "name": "stderr",
     "output_type": "stream",
     "text": [
      "c:\\users\\ivan\\anaconda3\\lib\\site-packages\\matplotlib\\collections.py:590: FutureWarning: elementwise comparison failed; returning scalar instead, but in the future will perform elementwise comparison\n",
      "  if self._edgecolors == str('face'):\n"
     ]
    },
    {
     "data": {
      "text/plain": [
       "<matplotlib.text.Text at 0xf835ac8>"
      ]
     },
     "execution_count": 392,
     "metadata": {},
     "output_type": "execute_result"
    },
    {
     "data": {
      "image/png": "[encoded data removed]",
      "text/plain": [
       "<matplotlib.figure.Figure at 0xf7866a0>"
      ]
     },
     "metadata": {},
     "output_type": "display_data"
    }
   ],
   "source": [
    "df_heatmap = pd.DataFrame(Matrix, columns = weekmask)\n",
    "#mark which values are 0 in mask df. Heatmap then ignores these values. \n",
    "mask = (df_heatmap ==0)\n",
    "ax = sns.heatmap(df_heatmap , annot=True, mask = mask)\n",
    "plt.ylabel('Hour')\n",
    "plt.xlabel('Weekday')\n",
    "plt.title('Visits per Weekday/Hour')\n"
   ]
  },
  {
   "cell_type": "code",
   "execution_count": null,
   "metadata": {
    "collapsed": true
   },
   "outputs": [],
   "source": [
    "A version of the heatmap without non-tutoring hours."
   ]
  },
  {
   "cell_type": "code",
   "execution_count": 393,
   "metadata": {
    "collapsed": false
   },
   "outputs": [
    {
     "name": "stderr",
     "output_type": "stream",
     "text": [
      "c:\\users\\ivan\\anaconda3\\lib\\site-packages\\matplotlib\\collections.py:590: FutureWarning: elementwise comparison failed; returning scalar instead, but in the future will perform elementwise comparison\n",
      "  if self._edgecolors == str('face'):\n"
     ]
    },
    {
     "data": {
      "text/plain": [
       "<matplotlib.text.Text at 0xfc2d6a0>"
      ]
     },
     "execution_count": 393,
     "metadata": {},
     "output_type": "execute_result"
    },
    {
     "data": {
      "image/png": "[encoded data removed]",
      "text/plain": [
       "<matplotlib.figure.Figure at 0xf841eb8>"
      ]
     },
     "metadata": {},
     "output_type": "display_data"
    }
   ],
   "source": [
    "#only include hours from 7AM to 10PM\n",
    "df_heatmap_filtered = df_heatmap.loc[7:22,]\n",
    "\n",
    "#mark which values are 0 in mask df. Heatmap then ignores these values. \n",
    "mask = (df_heatmap_filtered ==0)\n",
    "ax = sns.heatmap(df_heatmap_filtered , annot=True, mask = mask)\n",
    "plt.ylabel('Hour')\n",
    "plt.xlabel('Weekday')\n",
    "plt.title('Visits per Weekday/Hour')"
   ]
  },
  {
   "cell_type": "markdown",
   "metadata": {},
   "source": [
    "# Summary statistics\n",
    "The pandas groupby method generates a dictionary. For example if we group by course as below it will create a dictionary where the keys are each course 100, 200, 201 etc and for each key the row numbers where that course appears.\n",
    "\n",
    "Once we have that dictionary we can use counts and other methods."
   ]
  },
  {
   "cell_type": "code",
   "execution_count": 176,
   "metadata": {
    "collapsed": false
   },
   "outputs": [],
   "source": [
    "byDay = df.groupby('Date')\n",
    "day_count = byDay.size()\n",
    "\n",
    "df_Day = pd.DataFrame({'Date' : pd.to_datetime(day_count.index), 'Count': day_count})\n"
   ]
  },
  {
   "cell_type": "markdown",
   "metadata": {},
   "source": [
    "Create a range of dates from start of tutoring to today."
   ]
  },
  {
   "cell_type": "code",
   "execution_count": 177,
   "metadata": {
    "collapsed": true
   },
   "outputs": [],
   "source": [
    "date_range = pd.date_range('2015-09-16', date.today())\n",
    "df_date_range = pd.DataFrame({'Date' : date_range})"
   ]
  },
  {
   "cell_type": "markdown",
   "metadata": {},
   "source": [
    "Merge df_Day (dates where tutoring occured) with df_date_range (all possible days)"
   ]
  },
  {
   "cell_type": "code",
   "execution_count": 178,
   "metadata": {
    "collapsed": true
   },
   "outputs": [],
   "source": [
    "merged = pd.merge(df_Day2, df_date_range, left_on=\"Date\", right_on=\"Date\", how=\"outer\").sort_values('Date')\n",
    "merged['Count'].fillna(0, inplace=True)\n",
    "merged.index = merged['Date']\n",
    "merged.drop('Date', axis=1, inplace=True)\n",
    "\n",
    "df_Day = merged"
   ]
  },
  {
   "cell_type": "markdown",
   "metadata": {},
   "source": [
    "## Visits by date"
   ]
  },
  {
   "cell_type": "code",
   "execution_count": 179,
   "metadata": {
    "collapsed": false
   },
   "outputs": [
    {
     "data": {
      "text/plain": [
       "<matplotlib.axes._subplots.AxesSubplot at 0xbc7bda0>"
      ]
     },
     "execution_count": 179,
     "metadata": {},
     "output_type": "execute_result"
    },
    {
     "data": {
      "image/png": "[encoded data removed]",
      "text/plain": [
       "<matplotlib.figure.Figure at 0xbb9aef0>"
      ]
     },
     "metadata": {},
     "output_type": "display_data"
    }
   ],
   "source": [
    "df_Day.cumsum().plot()"
   ]
  },
  {
   "cell_type": "markdown",
   "metadata": {},
   "source": [
    "## By course and instructor"
   ]
  },
  {
   "cell_type": "code",
   "execution_count": 180,
   "metadata": {
    "collapsed": false
   },
   "outputs": [
    {
     "data": {
      "text/plain": [
       "Catalog Num\n",
       "10000    103\n",
       "20000     34\n",
       "20100      5\n",
       "21000      1\n",
       "22100     22\n",
       "26000      1\n",
       "30000     54\n",
       "30100      7\n",
       "30500      1\n",
       "32100      9\n",
       "33000      2\n",
       "34000     24\n",
       "34500     14\n",
       "35500     16\n",
       "36500     10\n",
       "36600      1\n",
       "39556      1\n",
       "73200      1\n",
       "dtype: int64"
      ]
     },
     "execution_count": 180,
     "metadata": {},
     "output_type": "execute_result"
    }
   ],
   "source": [
    "byCourse = df.groupby(['Catalog Num'])\n",
    "df_Course = byCourse.size()\n",
    "df_Course"
   ]
  },
  {
   "cell_type": "code",
   "execution_count": 181,
   "metadata": {
    "collapsed": false
   },
   "outputs": [
    {
     "data": {
      "text/plain": [
       "<matplotlib.text.Text at 0xbde17f0>"
      ]
     },
     "execution_count": 181,
     "metadata": {},
     "output_type": "execute_result"
    },
    {
     "data": {
      "image/png": "[encoded data removed]",
      "text/plain": [
       "<matplotlib.figure.Figure at 0xbd9f550>"
      ]
     },
     "metadata": {},
     "output_type": "display_data"
    }
   ],
   "source": [
    "Courseplot = df_Course.sort_values().plot(kind='barh')\n",
    "Courseplot.set_ylabel(\"visits\")"
   ]
  },
  {
   "cell_type": "code",
   "execution_count": 182,
   "metadata": {
    "collapsed": false
   },
   "outputs": [
    {
     "data": {
      "text/plain": [
       "Catalog Num  Instructor  \n",
       "10000        George          74\n",
       "30000        Wright          52\n",
       "34000        Conning         24\n",
       "20000        Basu            21\n",
       "35500        George          16\n",
       "34500        Sevak           14\n",
       "22100        Nugent          14\n",
       "10000        Filer           13\n",
       "             Goodspeed       11\n",
       "36500        Ma               8\n",
       "32100        Gharehogozli     8\n",
       "20000        Deb              6\n",
       "             Nugent           6\n",
       "30100        Silverstein      5\n",
       "22100        Demir            5\n",
       "10000        Chernick         5\n",
       "20100        Abreu            4\n",
       "22100        Leboeuf          3\n",
       "30000        Nyman            2\n",
       "30100        Agbeyegbe        2\n",
       "33000        Gurevich         2\n",
       "36500        Lu               2\n",
       "26000        Nyman            1\n",
       "20100        Agbeyegbe        1\n",
       "39556        Chaterjee        1\n",
       "20000        Sevak            1\n",
       "30500        Baker            1\n",
       "32100        Leboeuf          1\n",
       "36600        Carias           1\n",
       "73200        Filer            1\n",
       "dtype: int64"
      ]
     },
     "execution_count": 182,
     "metadata": {},
     "output_type": "execute_result"
    }
   ],
   "source": [
    "byCourseProf = df.groupby(['Catalog Num','Instructor'])\n",
    "df_CourseProf = byCourseProf.size().sort_values(ascending=False)\n",
    "df_CourseProf"
   ]
  },
  {
   "cell_type": "code",
   "execution_count": 183,
   "metadata": {
    "collapsed": false
   },
   "outputs": [
    {
     "data": {
      "text/plain": [
       "<matplotlib.text.Text at 0xbead710>"
      ]
     },
     "execution_count": 183,
     "metadata": {},
     "output_type": "execute_result"
    },
    {
     "data": {
      "image/png": "[encoded data removed]",
      "text/plain": [
       "<matplotlib.figure.Figure at 0xbe53ac8>"
      ]
     },
     "metadata": {},
     "output_type": "display_data"
    }
   ],
   "source": [
    "CourseProfplot = df_CourseProf.sort_values(ascending=False).plot(kind='bar')\n",
    "CourseProfplot.set_ylabel(\"visits\")"
   ]
  },
  {
   "cell_type": "code",
   "execution_count": null,
   "metadata": {
    "collapsed": false
   },
   "outputs": [],
   "source": []
  },
  {
   "cell_type": "markdown",
   "metadata": {},
   "source": [
    "##  Some things we could do\n",
    "   - Calendar analysis\n",
    "   -  Calendar heatmap\n",
    "   -  Agree on condensed summary report to send profs\n",
    "       - 'this week'\n",
    "       - 'semester to date'\n",
    "   - more detailed report to profs\n",
    "       - list of students\n",
    "   - "
   ]
  },
  {
   "cell_type": "code",
   "execution_count": null,
   "metadata": {
    "collapsed": true
   },
   "outputs": [],
   "source": []
  }
 ],
 "metadata": {
  "kernelspec": {
   "display_name": "Python 3",
   "language": "python",
   "name": "python3"
  },
  "language_info": {
   "codemirror_mode": {
    "name": "ipython",
    "version": 3
   },
   "file_extension": ".py",
   "mimetype": "text/x-python",
   "name": "python",
   "nbconvert_exporter": "python",
   "pygments_lexer": "ipython3",
   "version": "3.4.3"
  }
 },
 "nbformat": 4,
 "nbformat_minor": 0
}
